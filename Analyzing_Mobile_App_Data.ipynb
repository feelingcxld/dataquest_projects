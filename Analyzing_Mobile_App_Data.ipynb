{
 "cells": [
  {
   "cell_type": "markdown",
   "id": "ceca0332",
   "metadata": {},
   "source": [
    "# Analyzing Mobile App Data"
   ]
  },
  {
   "cell_type": "markdown",
   "id": "0cb2a4f0",
   "metadata": {},
   "source": [
    "## About this Project"
   ]
  },
  {
   "cell_type": "markdown",
   "id": "780fa901",
   "metadata": {},
   "source": [
    "Our aim in this project is to find a profitable app profile for both **App Store** and **Google Play** markets. We are working as data analyst for company that builds **Android** and **IOS** apps and our goal is to provide developer team with idea of profitable app with respect of the kind of apps they build."
   ]
  },
  {
   "cell_type": "markdown",
   "id": "c7275ad9",
   "metadata": {},
   "source": [
    "Our company build apps that can be downloaded and installed, due to this our only revenue consist of in-app ads. This means that our revenue for any app will depend on the number of users of our app. Our main goal in this project is to help our developer team to understand what kinds of apps should attract more users."
   ]
  },
  {
   "cell_type": "markdown",
   "id": "bc3e6ef1",
   "metadata": {},
   "source": [
    "## Opening and Exploring the Data"
   ]
  },
  {
   "cell_type": "markdown",
   "id": "73969cbd",
   "metadata": {},
   "source": [
    "First things first, let's open datasets and search through it.\n",
    "For this project we use free datasets, one for [App Store](https://www.kaggle.com/datasets/ramamet4/app-store-apple-data-set-10k-apps) and one for [Google Play](https://www.kaggle.com/datasets/lava18/google-play-store-apps).\n",
    "* [App Store](https://www.kaggle.com/datasets/ramamet4/app-store-apple-data-set-10k-apps) dataset containing data about approximately seven thousand iOS apps. You can download this dataset directly from [this link](https://dq-content.s3.amazonaws.com/350/AppleStore.csv).\n",
    "* [Google Play](https://www.kaggle.com/datasets/lava18/google-play-store-apps) dataset containing data about approximately ten thousand Android apps from Google Play. You can download this dataset directly from [this link](https://dq-content.s3.amazonaws.com/350/googleplaystore.csv)"
   ]
  },
  {
   "cell_type": "code",
   "execution_count": 1,
   "id": "de089bb5",
   "metadata": {},
   "outputs": [],
   "source": [
    "from csv import reader"
   ]
  },
  {
   "cell_type": "code",
   "execution_count": 2,
   "id": "fad69df3",
   "metadata": {},
   "outputs": [],
   "source": [
    "def open_dataset(dataset_name, header = False):\n",
    "    opened_file = open(dataset_name, encoding='utf8')\n",
    "    read_file = reader(opened_file)\n",
    "    apps_data = list(read_file)\n",
    "    if header:\n",
    "        header = apps_data[0]\n",
    "        apps_data = apps_data[1:]\n",
    "        return header, apps_data\n",
    "    else:\n",
    "        apps_data = apps_data[1:]\n",
    "        return apps_data"
   ]
  },
  {
   "cell_type": "code",
   "execution_count": 3,
   "id": "7407dddf",
   "metadata": {},
   "outputs": [],
   "source": [
    "def explore_data(dataset, start, end, rows_and_columns = False):\n",
    "    dataset_slice = dataset[start:end]\n",
    "    for row in dataset_slice:\n",
    "        print(row)\n",
    "        print('\\n')\n",
    "    \n",
    "    if rows_and_columns:\n",
    "        print('Number of rows:', len(dataset))\n",
    "        print('Number of columns:', len(dataset[0]))"
   ]
  },
  {
   "cell_type": "code",
   "execution_count": 4,
   "id": "d0de1f4c",
   "metadata": {},
   "outputs": [],
   "source": [
    "apple_dataset = open_dataset('C:/Users/feelingcxld Study/my_datasets/AppleStore.csv')\n",
    "google_dataset = open_dataset('C:/Users/feelingcxld Study/my_datasets/googleplaystore.csv')"
   ]
  },
  {
   "cell_type": "markdown",
   "id": "4412edcc",
   "metadata": {},
   "source": [
    "Here's a few of rows these datasets have."
   ]
  },
  {
   "cell_type": "code",
   "execution_count": 5,
   "id": "9d6869c2",
   "metadata": {
    "scrolled": false
   },
   "outputs": [
    {
     "name": "stdout",
     "output_type": "stream",
     "text": [
      "App Store dataset:\n",
      "['1', '281656475', 'PAC-MAN Premium', '100788224', 'USD', '3.99', '21292', '26', '4', '4.5', '6.3.5', '4+', 'Games', '38', '5', '10', '1']\n",
      "\n",
      "\n",
      "['2', '281796108', 'Evernote - stay organized', '158578688', 'USD', '0', '161065', '26', '4', '3.5', '8.2.2', '4+', 'Productivity', '37', '5', '23', '1']\n",
      "\n",
      "\n",
      "['3', '281940292', 'WeatherBug - Local Weather, Radar, Maps, Alerts', '100524032', 'USD', '0', '188583', '2822', '3.5', '4.5', '5.0.0', '4+', 'Weather', '37', '5', '3', '1']\n",
      "\n",
      "\n",
      "['4', '282614216', 'eBay: Best App to Buy, Sell, Save! Online Shopping', '128512000', 'USD', '0', '262241', '649', '4', '4.5', '5.10.0', '12+', 'Shopping', '37', '5', '9', '1']\n",
      "\n",
      "\n",
      "['5', '282935706', 'Bible', '92774400', 'USD', '0', '985920', '5320', '4.5', '5', '7.5.1', '4+', 'Reference', '37', '5', '45', '1']\n",
      "\n",
      "\n",
      "Number of rows: 7197\n",
      "Number of columns: 17\n",
      "\n",
      "\n",
      "Google Play dataset:\n",
      "['Photo Editor & Candy Camera & Grid & ScrapBook', 'ART_AND_DESIGN', '4.1', '159', '19M', '10,000+', 'Free', '0', 'Everyone', 'Art & Design', 'January 7, 2018', '1.0.0', '4.0.3 and up']\n",
      "\n",
      "\n",
      "['Coloring book moana', 'ART_AND_DESIGN', '3.9', '967', '14M', '500,000+', 'Free', '0', 'Everyone', 'Art & Design;Pretend Play', 'January 15, 2018', '2.0.0', '4.0.3 and up']\n",
      "\n",
      "\n",
      "['U Launcher Lite – FREE Live Cool Themes, Hide Apps', 'ART_AND_DESIGN', '4.7', '87510', '8.7M', '5,000,000+', 'Free', '0', 'Everyone', 'Art & Design', 'August 1, 2018', '1.2.4', '4.0.3 and up']\n",
      "\n",
      "\n",
      "['Sketch - Draw & Paint', 'ART_AND_DESIGN', '4.5', '215644', '25M', '50,000,000+', 'Free', '0', 'Teen', 'Art & Design', 'June 8, 2018', 'Varies with device', '4.2 and up']\n",
      "\n",
      "\n",
      "['Pixel Draw - Number Art Coloring Book', 'ART_AND_DESIGN', '4.3', '967', '2.8M', '100,000+', 'Free', '0', 'Everyone', 'Art & Design;Creativity', 'June 20, 2018', '1.1', '4.4 and up']\n",
      "\n",
      "\n",
      "Number of rows: 10841\n",
      "Number of columns: 13\n"
     ]
    }
   ],
   "source": [
    "print('App Store dataset:')\n",
    "explore_data(apple_dataset, 0, 5, True)\n",
    "print('\\n')\n",
    "print('Google Play dataset:')\n",
    "explore_data(google_dataset, 0, 5, True)"
   ]
  },
  {
   "cell_type": "markdown",
   "id": "fb0e703a",
   "metadata": {},
   "source": [
    "As we can see in **App Store** dataset we have 7197 rows of apps and for **Google Play** we have 10841."
   ]
  },
  {
   "cell_type": "markdown",
   "id": "da5dbcf1",
   "metadata": {},
   "source": [
    "## Deleting Wrong Data"
   ]
  },
  {
   "cell_type": "markdown",
   "id": "f5cd5876",
   "metadata": {},
   "source": [
    "In [Discussion](https://www.kaggle.com/lava18/google-play-store-apps/discussion) section about **Google Play** dataset we find one thread that describes an error for a certain row. You can find it  by using this [this link](https://www.kaggle.com/lava18/google-play-store-apps/discussion/66015). We should remove incorrect data in our datasets to avoid misleading or incorrect resulst."
   ]
  },
  {
   "cell_type": "markdown",
   "id": "66401f1c",
   "metadata": {},
   "source": [
    "To remove wrong entry we first print it to make sure this is the one that was told in discussion thread.\n",
    "Then we just delete this entry from our list."
   ]
  },
  {
   "cell_type": "code",
   "execution_count": 6,
   "id": "03326a00",
   "metadata": {},
   "outputs": [
    {
     "name": "stdout",
     "output_type": "stream",
     "text": [
      "['Life Made WI-Fi Touchscreen Photo Frame', '1.9', '19', '3.0M', '1,000+', 'Free', '0', 'Everyone', '', 'February 11, 2018', '1.0.19', '4.0 and up']\n",
      "['osmino Wi-Fi: free WiFi', 'TOOLS', '4.2', '134203', '4.1M', '10,000,000+', 'Free', '0', 'Everyone', 'Tools', 'August 7, 2018', '6.06.14', '4.4 and up']\n"
     ]
    }
   ],
   "source": [
    "print(google_dataset[10472])\n",
    "del google_dataset[10472]\n",
    "print(google_dataset[10472])"
   ]
  },
  {
   "cell_type": "markdown",
   "id": "a3343f68",
   "metadata": {},
   "source": [
    "## Removing Duplicate Entries"
   ]
  },
  {
   "cell_type": "markdown",
   "id": "d064e7bf",
   "metadata": {},
   "source": [
    "### Part one: Counting Duplicates"
   ]
  },
  {
   "cell_type": "markdown",
   "id": "348d4f44",
   "metadata": {},
   "source": [
    "If we explore our **Google Play** dataset we can find many duplicates. For instance, **Instagram** has four entries."
   ]
  },
  {
   "cell_type": "code",
   "execution_count": 7,
   "id": "8acfc9d4",
   "metadata": {},
   "outputs": [
    {
     "name": "stdout",
     "output_type": "stream",
     "text": [
      "['Instagram', 'SOCIAL', '4.5', '66577313', 'Varies with device', '1,000,000,000+', 'Free', '0', 'Teen', 'Social', 'July 31, 2018', 'Varies with device', 'Varies with device']\n",
      "['Instagram', 'SOCIAL', '4.5', '66577446', 'Varies with device', '1,000,000,000+', 'Free', '0', 'Teen', 'Social', 'July 31, 2018', 'Varies with device', 'Varies with device']\n",
      "['Instagram', 'SOCIAL', '4.5', '66577313', 'Varies with device', '1,000,000,000+', 'Free', '0', 'Teen', 'Social', 'July 31, 2018', 'Varies with device', 'Varies with device']\n",
      "['Instagram', 'SOCIAL', '4.5', '66509917', 'Varies with device', '1,000,000,000+', 'Free', '0', 'Teen', 'Social', 'July 31, 2018', 'Varies with device', 'Varies with device']\n"
     ]
    }
   ],
   "source": [
    "for app in google_dataset:\n",
    "    name = app[0]\n",
    "    if name == 'Instagram':\n",
    "        print(app)"
   ]
  },
  {
   "cell_type": "markdown",
   "id": "b5fdae0b",
   "metadata": {},
   "source": [
    "Using simple loop, we can determine how many duplicates our **Google Play** dataset has."
   ]
  },
  {
   "cell_type": "code",
   "execution_count": 8,
   "id": "8cf9d57b",
   "metadata": {
    "scrolled": true
   },
   "outputs": [
    {
     "name": "stdout",
     "output_type": "stream",
     "text": [
      "Number of duplicate apps: 1181\n",
      "\n",
      "\n",
      "Expected length: 9659\n"
     ]
    }
   ],
   "source": [
    "duplicate_apps = list()\n",
    "unique_apps = list()\n",
    "\n",
    "for app in google_dataset:\n",
    "    name = app[0]\n",
    "    if name in unique_apps:\n",
    "        duplicate_apps.append(name)\n",
    "    else:\n",
    "        unique_apps.append(name)\n",
    "        \n",
    "print('Number of duplicate apps:', len(duplicate_apps))\n",
    "print('\\n')\n",
    "print('Expected length:', len(google_dataset) - 1181)"
   ]
  },
  {
   "cell_type": "markdown",
   "id": "4f5d58b8",
   "metadata": {},
   "source": [
    "There's roughly 1181 duplicates in our dataset and after clearing we should left with 9659 apps. Here's some examples of apps that have duplicates."
   ]
  },
  {
   "cell_type": "code",
   "execution_count": 9,
   "id": "ff9a5ed2",
   "metadata": {},
   "outputs": [
    {
     "name": "stdout",
     "output_type": "stream",
     "text": [
      "Examples of duplicate apps: ['Quick PDF Scanner + OCR FREE', 'Box', 'Google My Business', 'ZOOM Cloud Meetings', 'join.me - Simple Meetings', 'Box', 'Zenefits', 'Google Ads', 'Google My Business', 'Slack']\n"
     ]
    }
   ],
   "source": [
    "print('Examples of duplicate apps:', duplicate_apps[:9 + 1])"
   ]
  },
  {
   "cell_type": "markdown",
   "id": "a3652ea7",
   "metadata": {},
   "source": [
    "### Part Two: Removing Duplicates"
   ]
  },
  {
   "cell_type": "markdown",
   "id": "b366a055",
   "metadata": {},
   "source": [
    "We need to remove duplicate entries and keep only one entry per app. We could remove duplicate apps randomly, but we have better way to do so."
   ]
  },
  {
   "cell_type": "markdown",
   "id": "755620eb",
   "metadata": {},
   "source": [
    "As you can see in our **'Instagram'** example the only difference is in **'Number of reviews'** column. The different data should mean that the information was collected at different times. We can use this information to keep most recent data."
   ]
  },
  {
   "cell_type": "markdown",
   "id": "abfe11ba",
   "metadata": {},
   "source": [
    "First, for clearing duplicates we need to create dictionary with each app name and it highest number of ratings."
   ]
  },
  {
   "cell_type": "code",
   "execution_count": 11,
   "id": "acaadae0",
   "metadata": {},
   "outputs": [
    {
     "name": "stdout",
     "output_type": "stream",
     "text": [
      "Number of entries in dictionary: 9659\n"
     ]
    }
   ],
   "source": [
    "reviews_max = dict()\n",
    "\n",
    "for app in google_dataset:\n",
    "    name = app[0]\n",
    "    n_reviews = float(app[3])\n",
    "    \n",
    "    if name in reviews_max and reviews_max[name] < n_reviews:\n",
    "        reviews_max[name] = n_reviews\n",
    "    elif name not in reviews_max:\n",
    "        reviews_max[name] = n_reviews\n",
    "\n",
    "print('Number of entries in dictionary:', len(reviews_max))"
   ]
  },
  {
   "cell_type": "markdown",
   "id": "2b3c3f33",
   "metadata": {},
   "source": [
    "In the code section above we loop through our **Google Play** dataset took name and number of reviews of each app and put it in `reviews_max` dictionary. If there is a duplicate with number of reviews higher than the entry we already have we swap old rating with new one and continue our loop. In the end we print number of unique apps in dataset."
   ]
  },
  {
   "cell_type": "markdown",
   "id": "a5e5877c",
   "metadata": {},
   "source": [
    "In the next code section we are going to do these steps:\n",
    "* We create 2 lists `android_clean` and `already_added`.\n",
    "* We loop through each app in our dataset.\n",
    "* For each iteration we are going to do next steps:\n",
    "    * We store app name and number of reviews in `name` and `n_reviews` variables.\n",
    "    * We add full row `app` in our fresh list `android_clean` and also store the name of app in `already_added` list if name of app stored in `name` variable not in `already_added` list and number of reviews of app stored in `n_reviews` variable is euqal to a value stored in the dictionary we created before."
   ]
  },
  {
   "cell_type": "code",
   "execution_count": 12,
   "id": "bdd43dc3",
   "metadata": {},
   "outputs": [
    {
     "name": "stdout",
     "output_type": "stream",
     "text": [
      "Number of rows left after cleaning: 9659\n"
     ]
    }
   ],
   "source": [
    "android_clean = list()\n",
    "already_added = list()\n",
    "\n",
    "for app in google_dataset:\n",
    "    name = app[0]\n",
    "    n_reviews = float(app[3])\n",
    "    if reviews_max[name] == n_reviews and name not in already_added:\n",
    "        android_clean.append(app)\n",
    "        already_added.append(name)\n",
    "\n",
    "print('Number of rows left after cleaning:', len(android_clean))"
   ]
  },
  {
   "cell_type": "markdown",
   "id": "65685971",
   "metadata": {},
   "source": [
    "After removing the duplicates we left with roughly 9659 apps as we expected."
   ]
  },
  {
   "cell_type": "markdown",
   "id": "6c3636a6",
   "metadata": {},
   "source": [
    "## Removing non-English apps"
   ]
  },
  {
   "cell_type": "markdown",
   "id": "6f8b1e05",
   "metadata": {},
   "source": [
    "If we explore our datasets enough, we can notice the names of some apps that not are not directed toward English speakers. Here's some exmaples of these apps."
   ]
  },
  {
   "cell_type": "code",
   "execution_count": 13,
   "id": "3c2c7dd3",
   "metadata": {},
   "outputs": [
    {
     "name": "stdout",
     "output_type": "stream",
     "text": [
      "搜狐新闻—新闻热点资讯掌上阅读软件\n",
      "エレメンタル ファンタジー - 高精細３ＤアクションＲＰＧ\n",
      "中国語 AQリスニング\n",
      "لعبة تقدر تربح DZ\n"
     ]
    }
   ],
   "source": [
    "print(apple_dataset[814][2])\n",
    "print(apple_dataset[6734][2])\n",
    "\n",
    "print(android_clean[4412][0])\n",
    "print(android_clean[7940][0])"
   ]
  },
  {
   "cell_type": "markdown",
   "id": "79c0da00",
   "metadata": {},
   "source": [
    "We're not interested for keeping non-English apps, so we'll remove them. In programming, each chracter in a string has a corresponding number associated with it. For example, the corresponding character for `'a'` is 97, character `'A'` is 65, and character `'爱'` is 29,233. According to [ASCII](https://en.wikipedia.org/wiki/ASCII) the range of the characters we commonly use in an English text are from 0 to 127. Using this information we can easily remove non-English apps from our datasets."
   ]
  },
  {
   "cell_type": "code",
   "execution_count": 14,
   "id": "a2f0b765",
   "metadata": {},
   "outputs": [],
   "source": [
    "def eng_char_check(string):\n",
    "    non_eng_chars = list()\n",
    "    for char in string:\n",
    "        if ord(char) > 127:\n",
    "            non_eng_chars.append(char)\n",
    "    if len(non_eng_chars) > 3:\n",
    "        return False\n",
    "    else:\n",
    "        return True"
   ]
  },
  {
   "cell_type": "code",
   "execution_count": 15,
   "id": "1ee0136c",
   "metadata": {},
   "outputs": [
    {
     "name": "stdout",
     "output_type": "stream",
     "text": [
      "Number of android apps: 9614\n",
      "Number of apple apps: 6183\n"
     ]
    }
   ],
   "source": [
    "android_eng = list()\n",
    "apple_eng = list()\n",
    "\n",
    "for app in android_clean:\n",
    "    if eng_char_check(app[0]) is True:\n",
    "        android_eng.append(app)\n",
    "\n",
    "for app in apple_dataset:\n",
    "    if eng_char_check(app[2]) is True:\n",
    "        apple_eng.append(app)\n",
    "\n",
    "print('Number of android apps:', len(android_eng))\n",
    "print('Number of apple apps:', len(apple_eng))"
   ]
  },
  {
   "cell_type": "markdown",
   "id": "8b15b563",
   "metadata": {},
   "source": [
    "In code section above we use function that check if the app use only English characters and if it's true we add this app in corresponding list. This will help us find only apps developed for English speakers."
   ]
  },
  {
   "cell_type": "markdown",
   "id": "2c3a26a7",
   "metadata": {},
   "source": [
    "## Isolating Free Apps"
   ]
  },
  {
   "cell_type": "markdown",
   "id": "9524b7d8",
   "metadata": {},
   "source": [
    "As we mention earlier, we only build apps that are free to download and install. Because of this we need to isolate free apps from paid ones. To do so, we can use **'Type'** column for Google Play apps and **'price'** column for App Store apps."
   ]
  },
  {
   "cell_type": "code",
   "execution_count": 16,
   "id": "ed0d110f",
   "metadata": {},
   "outputs": [],
   "source": [
    "android_free = list()\n",
    "apple_free = list()\n",
    "\n",
    "for app in android_eng:\n",
    "    if app[6] == 'Free':\n",
    "        android_free.append(app)\n",
    "\n",
    "for app in apple_eng:\n",
    "    price = float(app[5])\n",
    "    if price == 0:\n",
    "        apple_free.append(app)"
   ]
  },
  {
   "cell_type": "code",
   "execution_count": 17,
   "id": "324e7e54",
   "metadata": {},
   "outputs": [
    {
     "name": "stdout",
     "output_type": "stream",
     "text": [
      "Number of free android apps: 8863\n",
      "Number of free apple apps: 3222\n"
     ]
    }
   ],
   "source": [
    "print('Number of free android apps:', len(android_free))\n",
    "print('Number of free apple apps:', len(apple_free))"
   ]
  },
  {
   "cell_type": "markdown",
   "id": "f5c3176e",
   "metadata": {},
   "source": [
    "After we complete our cleaning, there are 8863 apps left from **Google Play** dataset and 4056 apps from **App Store** dataset. From this point we can start the analysis."
   ]
  },
  {
   "cell_type": "markdown",
   "id": "6d844fbf",
   "metadata": {},
   "source": [
    "## Most Common Apps by Genre"
   ]
  },
  {
   "cell_type": "markdown",
   "id": "9fddd486",
   "metadata": {},
   "source": [
    "## Part One: Finding Apps Frequency by Genre"
   ]
  },
  {
   "cell_type": "markdown",
   "id": "f8e4c1e5",
   "metadata": {},
   "source": [
    "As the amount of people using our apps affects our revenue, our goal is to determine the kinds of apps that are likely attract more users."
   ]
  },
  {
   "cell_type": "markdown",
   "id": "25692cc4",
   "metadata": {},
   "source": [
    "To minimize risks and overhead, our validation strategy for an app idea has three steps:\n",
    "1. Build a minimal Android version of the app, and add it to Google Play.\n",
    "2. If the app has a good response from users, we develop it further.\n",
    "3. If the app is profitable after six months, we build an iOS version of the app and add it to the App Store."
   ]
  },
  {
   "cell_type": "markdown",
   "id": "f97c82c7",
   "metadata": {},
   "source": [
    "Because our end goal is to add the app on both **Google Play** and **App Store**, we need to find app profiles that are successful in both markets. Because of this reason we will analyse our datasets using app genres."
   ]
  },
  {
   "cell_type": "code",
   "execution_count": 18,
   "id": "553210b9",
   "metadata": {},
   "outputs": [],
   "source": [
    "def freq_table(dataset, index):\n",
    "    freq_table = dict()\n",
    "    total = 0\n",
    "    for app in dataset:\n",
    "        val = app[index]\n",
    "        total += 1\n",
    "        if val in freq_table:\n",
    "            freq_table[val] += 1\n",
    "        elif val not in freq_table:\n",
    "            freq_table[val] = 1\n",
    "    freq_table_percentages = dict()\n",
    "    for key in freq_table:\n",
    "        percentage = (freq_table[key] / total) * 100\n",
    "        freq_table_percentages[key] = round(percentage, 1)\n",
    "    return freq_table_percentages"
   ]
  },
  {
   "cell_type": "code",
   "execution_count": 19,
   "id": "c61a3ae3",
   "metadata": {},
   "outputs": [],
   "source": [
    "def display_table(dataset, index):\n",
    "    table = freq_table(dataset, index)\n",
    "    table_display = []\n",
    "    for key in table:\n",
    "        key_val_as_tuple = (table[key], key)\n",
    "        table_display.append(key_val_as_tuple)\n",
    "\n",
    "    table_sorted = sorted(table_display, reverse = True)\n",
    "    for entry in table_sorted:\n",
    "        print(entry[1], ':', str(entry[0]) + '%')"
   ]
  },
  {
   "cell_type": "markdown",
   "id": "61c7ddd8",
   "metadata": {},
   "source": [
    "To find out what genres are popular in **Google Play** and **App Store** we build 2 functions. First one create frequency table of genres and second one is sort it by descending order."
   ]
  },
  {
   "cell_type": "markdown",
   "id": "d8651722",
   "metadata": {},
   "source": [
    "## Part Two: Examine Data"
   ]
  },
  {
   "cell_type": "markdown",
   "id": "4ab31ff1",
   "metadata": {},
   "source": [
    "Let's start by examing **App Store** frequency table."
   ]
  },
  {
   "cell_type": "code",
   "execution_count": 20,
   "id": "1dd818c1",
   "metadata": {},
   "outputs": [
    {
     "name": "stdout",
     "output_type": "stream",
     "text": [
      "Games : 58.2%\n",
      "Entertainment : 7.9%\n",
      "Photo & Video : 5.0%\n",
      "Education : 3.7%\n",
      "Social Networking : 3.3%\n",
      "Shopping : 2.6%\n",
      "Utilities : 2.5%\n",
      "Sports : 2.1%\n",
      "Music : 2.0%\n",
      "Health & Fitness : 2.0%\n",
      "Productivity : 1.7%\n",
      "Lifestyle : 1.6%\n",
      "News : 1.3%\n",
      "Travel : 1.2%\n",
      "Finance : 1.1%\n",
      "Weather : 0.9%\n",
      "Food & Drink : 0.8%\n",
      "Reference : 0.6%\n",
      "Business : 0.5%\n",
      "Book : 0.4%\n",
      "Navigation : 0.2%\n",
      "Medical : 0.2%\n",
      "Catalogs : 0.1%\n"
     ]
    }
   ],
   "source": [
    "display_table(apple_free, 12) # prime genre section"
   ]
  },
  {
   "cell_type": "markdown",
   "id": "03668873",
   "metadata": {},
   "source": [
    "We can see 58.2% of all non-English free apps are games. Entertainment apps have 7.9% of the market, followed by photo & video apps with 5.0%. Apps designed for education are 3.7%, followed by social networking apps with 3.3% of the apps with our dataset."
   ]
  },
  {
   "cell_type": "markdown",
   "id": "23a43db8",
   "metadata": {},
   "source": [
    "As we can see, **App Store** is dominated by apps developed for entertainment, while apps with practical purposes are more rare. But the fact that entertainment apps have numerous adventage it doesn't mean that they also have the greatest number of users."
   ]
  },
  {
   "cell_type": "markdown",
   "id": "ab58b36b",
   "metadata": {},
   "source": [
    "Let's continue our analysis with **Category** and **Genres** columns of our **Google Play** dataset."
   ]
  },
  {
   "cell_type": "code",
   "execution_count": 21,
   "id": "29a0beda",
   "metadata": {},
   "outputs": [
    {
     "name": "stdout",
     "output_type": "stream",
     "text": [
      "FAMILY : 18.9%\n",
      "GAME : 9.7%\n",
      "TOOLS : 8.5%\n",
      "BUSINESS : 4.6%\n",
      "PRODUCTIVITY : 3.9%\n",
      "LIFESTYLE : 3.9%\n",
      "FINANCE : 3.7%\n",
      "MEDICAL : 3.5%\n",
      "SPORTS : 3.4%\n",
      "PERSONALIZATION : 3.3%\n",
      "COMMUNICATION : 3.2%\n",
      "HEALTH_AND_FITNESS : 3.1%\n",
      "PHOTOGRAPHY : 2.9%\n",
      "NEWS_AND_MAGAZINES : 2.8%\n",
      "SOCIAL : 2.7%\n",
      "TRAVEL_AND_LOCAL : 2.3%\n",
      "SHOPPING : 2.2%\n",
      "BOOKS_AND_REFERENCE : 2.1%\n",
      "DATING : 1.9%\n",
      "VIDEO_PLAYERS : 1.8%\n",
      "MAPS_AND_NAVIGATION : 1.4%\n",
      "FOOD_AND_DRINK : 1.2%\n",
      "EDUCATION : 1.2%\n",
      "ENTERTAINMENT : 1.0%\n",
      "LIBRARIES_AND_DEMO : 0.9%\n",
      "AUTO_AND_VEHICLES : 0.9%\n",
      "WEATHER : 0.8%\n",
      "HOUSE_AND_HOME : 0.8%\n",
      "PARENTING : 0.7%\n",
      "EVENTS : 0.7%\n",
      "COMICS : 0.6%\n",
      "BEAUTY : 0.6%\n",
      "ART_AND_DESIGN : 0.6%\n"
     ]
    }
   ],
   "source": [
    "display_table(android_free, 1) # Category section"
   ]
  },
  {
   "cell_type": "markdown",
   "id": "3005f0df",
   "metadata": {},
   "source": [
    "This table seems significantly different on **Google Play**. There are not that many apps designed for fun, and it looks like that there is a good amount of apps designed for practical purposes, and the frequency table for **Genres** column also proves this."
   ]
  },
  {
   "cell_type": "code",
   "execution_count": 22,
   "id": "4d0e8f2c",
   "metadata": {},
   "outputs": [
    {
     "name": "stdout",
     "output_type": "stream",
     "text": [
      "Tools : 8.5%\n",
      "Entertainment : 6.1%\n",
      "Education : 5.3%\n",
      "Business : 4.6%\n",
      "Productivity : 3.9%\n",
      "Lifestyle : 3.9%\n",
      "Finance : 3.7%\n",
      "Sports : 3.5%\n",
      "Medical : 3.5%\n",
      "Personalization : 3.3%\n",
      "Communication : 3.2%\n",
      "Health & Fitness : 3.1%\n",
      "Action : 3.1%\n",
      "Photography : 2.9%\n",
      "News & Magazines : 2.8%\n",
      "Social : 2.7%\n",
      "Travel & Local : 2.3%\n",
      "Shopping : 2.2%\n",
      "Books & Reference : 2.1%\n",
      "Simulation : 2.0%\n",
      "Dating : 1.9%\n",
      "Arcade : 1.9%\n",
      "Video Players & Editors : 1.8%\n",
      "Casual : 1.8%\n",
      "Maps & Navigation : 1.4%\n",
      "Food & Drink : 1.2%\n",
      "Puzzle : 1.1%\n",
      "Racing : 1.0%\n",
      "Strategy : 0.9%\n",
      "Role Playing : 0.9%\n",
      "Libraries & Demo : 0.9%\n",
      "Auto & Vehicles : 0.9%\n",
      "Weather : 0.8%\n",
      "House & Home : 0.8%\n",
      "Events : 0.7%\n",
      "Adventure : 0.7%\n",
      "Comics : 0.6%\n",
      "Beauty : 0.6%\n",
      "Art & Design : 0.6%\n",
      "Parenting : 0.5%\n",
      "Card : 0.5%\n",
      "Trivia : 0.4%\n",
      "Educational;Education : 0.4%\n",
      "Educational : 0.4%\n",
      "Casino : 0.4%\n",
      "Board : 0.4%\n",
      "Word : 0.3%\n",
      "Education;Education : 0.3%\n",
      "Racing;Action & Adventure : 0.2%\n",
      "Puzzle;Brain Games : 0.2%\n",
      "Music : 0.2%\n",
      "Entertainment;Music & Video : 0.2%\n",
      "Casual;Pretend Play : 0.2%\n",
      "Simulation;Action & Adventure : 0.1%\n",
      "Parenting;Music & Video : 0.1%\n",
      "Parenting;Education : 0.1%\n",
      "Entertainment;Brain Games : 0.1%\n",
      "Educational;Pretend Play : 0.1%\n",
      "Educational;Brain Games : 0.1%\n",
      "Education;Pretend Play : 0.1%\n",
      "Casual;Creativity : 0.1%\n",
      "Casual;Brain Games : 0.1%\n",
      "Casual;Action & Adventure : 0.1%\n",
      "Board;Brain Games : 0.1%\n",
      "Art & Design;Creativity : 0.1%\n",
      "Arcade;Action & Adventure : 0.1%\n",
      "Action;Action & Adventure : 0.1%\n",
      "Video Players & Editors;Music & Video : 0.0%\n",
      "Video Players & Editors;Creativity : 0.0%\n",
      "Trivia;Education : 0.0%\n",
      "Travel & Local;Action & Adventure : 0.0%\n",
      "Tools;Education : 0.0%\n",
      "Strategy;Education : 0.0%\n",
      "Strategy;Creativity : 0.0%\n",
      "Strategy;Action & Adventure : 0.0%\n",
      "Sports;Action & Adventure : 0.0%\n",
      "Simulation;Pretend Play : 0.0%\n",
      "Simulation;Education : 0.0%\n",
      "Role Playing;Pretend Play : 0.0%\n",
      "Role Playing;Brain Games : 0.0%\n",
      "Role Playing;Action & Adventure : 0.0%\n",
      "Racing;Pretend Play : 0.0%\n",
      "Puzzle;Education : 0.0%\n",
      "Puzzle;Creativity : 0.0%\n",
      "Puzzle;Action & Adventure : 0.0%\n",
      "Parenting;Brain Games : 0.0%\n",
      "Music;Music & Video : 0.0%\n",
      "Music & Audio;Music & Video : 0.0%\n",
      "Lifestyle;Pretend Play : 0.0%\n",
      "Lifestyle;Education : 0.0%\n",
      "Health & Fitness;Education : 0.0%\n",
      "Health & Fitness;Action & Adventure : 0.0%\n",
      "Entertainment;Pretend Play : 0.0%\n",
      "Entertainment;Education : 0.0%\n",
      "Entertainment;Creativity : 0.0%\n",
      "Entertainment;Action & Adventure : 0.0%\n",
      "Educational;Creativity : 0.0%\n",
      "Educational;Action & Adventure : 0.0%\n",
      "Education;Music & Video : 0.0%\n",
      "Education;Creativity : 0.0%\n",
      "Education;Brain Games : 0.0%\n",
      "Education;Action & Adventure : 0.0%\n",
      "Communication;Creativity : 0.0%\n",
      "Comics;Creativity : 0.0%\n",
      "Casual;Music & Video : 0.0%\n",
      "Casual;Education : 0.0%\n",
      "Card;Action & Adventure : 0.0%\n",
      "Books & Reference;Education : 0.0%\n",
      "Board;Action & Adventure : 0.0%\n",
      "Art & Design;Pretend Play : 0.0%\n",
      "Art & Design;Action & Adventure : 0.0%\n",
      "Arcade;Pretend Play : 0.0%\n",
      "Adventure;Education : 0.0%\n",
      "Adventure;Action & Adventure : 0.0%\n"
     ]
    }
   ],
   "source": [
    "display_table(android_free, 9) # Genres section"
   ]
  },
  {
   "cell_type": "markdown",
   "id": "fc7fbeaa",
   "metadata": {},
   "source": [
    "The difference between **Genres** and **Category** columns in our **Google Play** dataset is not so clear, but one thing we can notice is that the **Genres** column have more categories. At the moment, we looking for the big picture, so we will be working with **Category** column from this point."
   ]
  },
  {
   "cell_type": "markdown",
   "id": "3175d671",
   "metadata": {},
   "source": [
    "## Part Three: Most Popular App Store Apps by Genre"
   ]
  },
  {
   "cell_type": "markdown",
   "id": "55496d17",
   "metadata": {},
   "source": [
    "To get more accurate data, we can compare average user ratings for each genre. To do this, we need to sum up all user ratings for one genre and then divide this sum by the number of apps in same genre."
   ]
  },
  {
   "cell_type": "code",
   "execution_count": 23,
   "id": "3302f11b",
   "metadata": {
    "scrolled": true
   },
   "outputs": [
    {
     "name": "stdout",
     "output_type": "stream",
     "text": [
      "Navigation : 86090.3\n",
      "Reference : 74942.1\n",
      "Social Networking : 71548.3\n",
      "Music : 57326.5\n",
      "Weather : 52279.9\n",
      "Book : 39758.5\n",
      "Food & Drink : 33333.9\n",
      "Finance : 31467.9\n",
      "Photo & Video : 28441.5\n",
      "Travel : 28243.8\n",
      "Shopping : 26919.7\n",
      "Health & Fitness : 23298.0\n",
      "Sports : 23008.9\n",
      "Games : 22788.7\n",
      "News : 21248.0\n",
      "Productivity : 21028.4\n",
      "Utilities : 18684.5\n",
      "Lifestyle : 16485.8\n",
      "Entertainment : 14029.8\n",
      "Business : 7491.1\n",
      "Education : 7004.0\n",
      "Catalogs : 4004.0\n",
      "Medical : 612.0\n"
     ]
    }
   ],
   "source": [
    "apple_genre_freq_table = freq_table(apple_free, 12)\n",
    "apple_table_sorted = list()\n",
    "\n",
    "for genre in apple_genre_freq_table:\n",
    "    total = 0\n",
    "    len_genre = 0\n",
    "    for app in apple_free:\n",
    "        genre_app = app[12]\n",
    "        if genre_app == genre:\n",
    "            user_rating = float(app[6])\n",
    "            total += user_rating\n",
    "            len_genre += 1\n",
    "    avg_user_rating = total / len_genre\n",
    "    key_val_as_tuple = (round(avg_user_rating, 1), genre)\n",
    "    apple_table_sorted.append(key_val_as_tuple)\n",
    "\n",
    "apple_table_sorted = sorted(apple_table_sorted, reverse = True)\n",
    "for entry in apple_table_sorted:\n",
    "    print(entry[1], ':', entry[0])"
   ]
  },
  {
   "cell_type": "markdown",
   "id": "c1399de2",
   "metadata": {},
   "source": [
    "**Navigation** apps on average have the highest number of user reviews, but this is influenced by **Waze** and **Google Maps**, which have almost half a million user reviews together."
   ]
  },
  {
   "cell_type": "code",
   "execution_count": 24,
   "id": "54c86e8a",
   "metadata": {},
   "outputs": [
    {
     "name": "stdout",
     "output_type": "stream",
     "text": [
      "Waze - GPS Navigation, Maps & Real-time Traffic 345046\n",
      "Geocaching® 12811\n",
      "ImmobilienScout24: Real Estate Search in Germany 187\n",
      "Railway Route Search 5\n",
      "CoPilot GPS – Car Navigation & Offline Maps 3582\n",
      "Google Maps - Navigation & Transit 154911\n"
     ]
    }
   ],
   "source": [
    "for app in apple_free:\n",
    "    if app[12] == 'Navigation':\n",
    "        print(app[2], app[6])"
   ]
  },
  {
   "cell_type": "markdown",
   "id": "47d86606",
   "metadata": {},
   "source": [
    "Same goes for **Social Networking** apps, where the average number is influenced by giants like **Facebook**, **Instagram** etc. **Music** apps in the same boat, theres is **Spotify**, **Shazam** and other apps that heavily influence the average number."
   ]
  },
  {
   "cell_type": "markdown",
   "id": "bc30703c",
   "metadata": {},
   "source": [
    "Our aim is to find popular genres, but it seems that most popular genres must seem more popular than they really are. The average number of ratings seem to be skewed by very few apps which have hundreds of thousands of user ratings, while the other apps may struggle to get past the 10,000 threshold. We could have a better picture by removing extremely popular apps from each genre and recalculate average user ratings, but we'll leave this level of detail for later."
   ]
  },
  {
   "cell_type": "markdown",
   "id": "f805906e",
   "metadata": {},
   "source": [
    "**Reference** is another genre that has a high average user rating, but again ratings are skewed because of **Bible** and **Dictionary.com**."
   ]
  },
  {
   "cell_type": "code",
   "execution_count": 25,
   "id": "feef1a6b",
   "metadata": {},
   "outputs": [
    {
     "name": "stdout",
     "output_type": "stream",
     "text": [
      "Bible 985920\n",
      "Dictionary.com Dictionary & Thesaurus 200047\n",
      "Dictionary.com Dictionary & Thesaurus for iPad 54175\n",
      "Muslim Pro: Ramadan 2017 Prayer Times, Azan, Quran 18418\n",
      "Merriam-Webster Dictionary 16849\n",
      "Google Translate 26786\n",
      "Night Sky 12122\n",
      "WWDC 762\n",
      "Jishokun-Japanese English Dictionary & Translator 0\n",
      "教えて!goo 0\n",
      "VPN Express 14\n",
      "New Furniture Mods - Pocket Wiki & Game Tools for Minecraft PC Edition 17588\n",
      "LUCKY BLOCK MOD ™ for Minecraft PC Edition - The Best Pocket Wiki & Mods Installer Tools 4693\n",
      "Guides for Pokémon GO - Pokemon GO News and Cheats 826\n",
      "Horror Maps for Minecraft PE - Download The Scariest Maps for Minecraft Pocket Edition (MCPE) Free 718\n",
      "City Maps for Minecraft PE - The Best Maps for Minecraft Pocket Edition (MCPE) 8535\n",
      "GUNS MODS for Minecraft PC Edition - Mods Tools 1497\n",
      "Real Bike Traffic Rider Virtual Reality Glasses 8\n"
     ]
    }
   ],
   "source": [
    "for app in apple_free:\n",
    "    if app[12] == 'Reference':\n",
    "        print(app[2], app[6])"
   ]
  },
  {
   "cell_type": "markdown",
   "id": "46ad33c2",
   "metadata": {},
   "source": [
    "On the other hand we have **Health & Fitness**, which has a more balanced user rating distribution."
   ]
  },
  {
   "cell_type": "code",
   "execution_count": 26,
   "id": "2933b0af",
   "metadata": {
    "scrolled": false
   },
   "outputs": [
    {
     "name": "stdout",
     "output_type": "stream",
     "text": [
      "Lifesum – Inspiring healthy lifestyle app 5795\n",
      "Lose It! – Weight Loss Program and Calorie Counter 373835\n",
      "Nike+ Training Club - Workouts & Fitness Plans 33969\n",
      "Sleep Cycle alarm clock 104539\n",
      "Period Tracker Lite 53620\n",
      "Weight Watchers 136833\n",
      "My Cycles Period and Ovulation Tracker 7469\n",
      "Runtastic Running, Jogging and Walking Tracker 10298\n",
      "Calorie Counter & Diet Tracker by MyFitnessPal 507706\n",
      "Waterlogged - Daily Hydration Tracker 5000\n",
      "WebMD for iPad 9142\n",
      "Fooducate - Lose Weight, Eat Healthy,Get Motivated 11875\n",
      "My Score Plus Weight Loss, Food & Exercise Tracker 467\n",
      "VIBO RealMassager 6\n",
      "Fitbit 90496\n",
      "Headspace 12819\n",
      "Charity Miles: Walking & Running Distance Tracker 3115\n",
      "Sworkit - Custom Workouts for Exercise & Fitness 16819\n",
      "Fitstar Personal Trainer 7496\n",
      "Garmin Connect™ Mobile 8341\n",
      "Smart Alarm Clock : sleep cycle & snoring recorder 3779\n",
      "Plant Nanny - Water Reminder with Cute Plants 27421\n",
      "Sleep Meister - Sleep Cycle Alarm Lite 445\n",
      "ameli, l'Assurance Maladie 8\n",
      "RUNNING for weight loss: workout & meal plans 6407\n",
      "Walk for a Dog 412\n",
      "Seven - 7 Minute Workout Training Challenge 6808\n",
      "Freeletics Bodyweight - Workouts and Training 1722\n",
      "Clue Period Tracker: Period & Ovulation Tracker 13436\n",
      "Runtastic Six Pack Abs Workout & Core Trainer 4283\n",
      "FizzUp – Online Fitness Trainer 5\n",
      "Quick Fit - 7 Minute Workout, Abs, and Yoga 407\n",
      "J&J Official 7 Minute Workout 4861\n",
      "8fit - Workouts, meal plans and personal trainer 8730\n",
      "Model My Diet - Women - Weight Loss Motivation 236\n",
      "SmartFit - Wristband 105\n",
      "Record by Under Armour, connects with UA HealthBox 7754\n",
      "Runtastic Butt Workout & Booty Trainer Plans 222\n",
      "YAZIO – Calorie Counter & Nutrition Tracker 115\n",
      "Crane Connect 94\n",
      "Walking for Weight Loss: training plans, GPS, tips 397\n",
      "My Water Balance: Daily Drink Tracker & Reminder 1601\n",
      "Superdrug 0\n",
      "Dot - A Period & Fertility Tracker 142\n",
      "Ab & Core Sworkit - Free Workout Trainer 2901\n",
      "2Face Fitpack - Dein Trainingsprogramm mit persönlichem Ernährungsplan, Kalorienrechner und Trainingsplan 0\n",
      "Butt Sworkit - Free Workout Trainer to tone & lift 960\n",
      "GYMONDO – Fitness Training für Zuhause 0\n",
      "Snail Sleep-Dream Talk Recording 19\n",
      "My Challenge Tracker 3682\n",
      "Runtastic Results: Workout & Bodyweight Training 1718\n",
      "Fitbod Workout Log: Strength Lifting Bodybuilding 4668\n",
      "Sweat: Kayla Itsines' Bikini Body Fitness Workouts 3788\n",
      "Morning Routine : Daily Habit Tracker 40\n",
      "SenseSleep - Train Your Brain To Sleep Better 22\n",
      "Life Cycle - Track Your Time Automatically 1760\n",
      "Asana Rebel - Yoga Inspired Fitness 2459\n",
      "Fit Girls Guide 397\n",
      "Wellbeyond Meditation for Kids 36\n",
      "Zen 298\n",
      "Simple Habit 2494\n",
      "Dr. Oz 99\n",
      "airweave sleep analysis 0\n",
      "Intuition Guidances 0\n",
      "Sonia Tlev 0\n"
     ]
    }
   ],
   "source": [
    "for app in apple_free:\n",
    "    if app[12] == 'Health & Fitness':\n",
    "        print(app[2], app[6])"
   ]
  },
  {
   "cell_type": "markdown",
   "id": "b28f59ab",
   "metadata": {},
   "source": [
    "This niche looks like a good spot. We can make a fitness app, but not with only excercises. We could make this app like gamefication version of default fitness apps with character development, achievements, online community etc. You can improve your character in-game by doing various excersises in real life. And with online community you can share your progress with other people who use this app."
   ]
  },
  {
   "cell_type": "markdown",
   "id": "f8bdccb7",
   "metadata": {},
   "source": [
    "This idea seems to fit well with the fact that **App Store** dominated by apps for entertainment."
   ]
  },
  {
   "cell_type": "markdown",
   "id": "9e952102",
   "metadata": {},
   "source": [
    "Some others popular genres such as **Weather** or **Food & Drink** don't seem to be intrested to us.\n",
    "* In **Weather** apps people usually don't spend that much time because of this chances of making profit using in-app ads are low for this category of apps.\n",
    "* In **Food & Drink** most of apps is restraunts or delivery serivices like **McDonald's** or **Starbucks** so this niche is not for us."
   ]
  },
  {
   "cell_type": "markdown",
   "id": "7f513f7d",
   "metadata": {},
   "source": [
    "## Part Four: Most Popular Google Store Apps by Genre"
   ]
  },
  {
   "cell_type": "markdown",
   "id": "00ea786a",
   "metadata": {},
   "source": [
    "For **Google Play** we have data about number of installs, so we should be able to get clearer picture about genre popularity. However, we can see that most values are open-ended. For example there are '100+', '1000+', '5000+' etc."
   ]
  },
  {
   "cell_type": "code",
   "execution_count": 27,
   "id": "33a38e81",
   "metadata": {},
   "outputs": [
    {
     "name": "stdout",
     "output_type": "stream",
     "text": [
      "1,000,000+ : 15.7%\n",
      "100,000+ : 11.6%\n",
      "10,000,000+ : 10.5%\n",
      "10,000+ : 10.2%\n",
      "1,000+ : 8.4%\n",
      "100+ : 6.9%\n",
      "5,000,000+ : 6.8%\n",
      "500,000+ : 5.6%\n",
      "50,000+ : 4.8%\n",
      "5,000+ : 4.5%\n",
      "10+ : 3.5%\n",
      "500+ : 3.2%\n",
      "50,000,000+ : 2.3%\n",
      "100,000,000+ : 2.1%\n",
      "50+ : 1.9%\n",
      "5+ : 0.8%\n",
      "1+ : 0.5%\n",
      "500,000,000+ : 0.3%\n",
      "1,000,000,000+ : 0.2%\n",
      "0+ : 0.0%\n"
     ]
    }
   ],
   "source": [
    "display_table(android_free, 5)"
   ]
  },
  {
   "cell_type": "markdown",
   "id": "1aaa177d",
   "metadata": {},
   "source": [
    "This data seems not very precise. For example, for 100,000+ downloads we don't know if it's 100,000 or 300,000. But we don't need perfectly accurate data for our purposes, we only need an idea of which genre attract more users."
   ]
  },
  {
   "cell_type": "markdown",
   "id": "2ccb433f",
   "metadata": {},
   "source": [
    "Now we need to perform computations. To do so, we need to convert each install number to a `float` - this means we need to remove the commas and the plus characters. We'll do this directly in the loop below, where we do our computations."
   ]
  },
  {
   "cell_type": "code",
   "execution_count": 28,
   "id": "bf1928be",
   "metadata": {},
   "outputs": [
    {
     "name": "stdout",
     "output_type": "stream",
     "text": [
      "COMMUNICATION : 38456119.2\n",
      "VIDEO_PLAYERS : 24727872.5\n",
      "SOCIAL : 23253652.1\n",
      "PHOTOGRAPHY : 17840110.4\n",
      "PRODUCTIVITY : 16787331.3\n",
      "GAME : 15588015.6\n",
      "TRAVEL_AND_LOCAL : 13984077.7\n",
      "ENTERTAINMENT : 11640705.9\n",
      "TOOLS : 10801391.3\n",
      "NEWS_AND_MAGAZINES : 9549178.5\n",
      "BOOKS_AND_REFERENCE : 8767811.9\n",
      "SHOPPING : 7036877.3\n",
      "PERSONALIZATION : 5201482.6\n",
      "WEATHER : 5074486.2\n",
      "HEALTH_AND_FITNESS : 4188822.0\n",
      "MAPS_AND_NAVIGATION : 4056941.8\n",
      "FAMILY : 3697848.2\n",
      "SPORTS : 3638640.1\n",
      "ART_AND_DESIGN : 1986335.1\n",
      "FOOD_AND_DRINK : 1924897.7\n",
      "EDUCATION : 1833495.1\n",
      "BUSINESS : 1712290.1\n",
      "LIFESTYLE : 1437816.3\n",
      "FINANCE : 1387692.5\n",
      "HOUSE_AND_HOME : 1331540.6\n",
      "DATING : 854028.8\n",
      "COMICS : 817657.3\n",
      "AUTO_AND_VEHICLES : 647317.8\n",
      "LIBRARIES_AND_DEMO : 638503.7\n",
      "PARENTING : 542603.6\n",
      "BEAUTY : 513151.9\n",
      "EVENTS : 253542.2\n",
      "MEDICAL : 120550.6\n"
     ]
    }
   ],
   "source": [
    "android_category_freq_table = freq_table(android_free, 1)\n",
    "android_table_sorted = list()\n",
    "\n",
    "for category in android_category_freq_table:\n",
    "    total = 0\n",
    "    len_category = 0\n",
    "    for app in android_free:\n",
    "        category_app = app[1]\n",
    "        if category_app == category:\n",
    "            installs = app[5]\n",
    "            installs = installs.replace(',', '')\n",
    "            installs = installs.replace('+', '')\n",
    "            installs = float(installs)\n",
    "            total += installs\n",
    "            len_category += 1\n",
    "    avg_installs = total / len_category\n",
    "    key_val_as_tuple = (round(avg_installs, 1), category)\n",
    "    android_table_sorted.append(key_val_as_tuple)\n",
    "\n",
    "android_table_sorted = sorted(android_table_sorted, reverse = True)\n",
    "for entry in android_table_sorted:\n",
    "    print(entry[1], ':', entry[0])"
   ]
  },
  {
   "cell_type": "markdown",
   "id": "46278409",
   "metadata": {},
   "source": [
    "**Communication** category have the most installs on average, but this skewed by a few apps such as **What's App**, **Skype**, **Hangouts** etc."
   ]
  },
  {
   "cell_type": "code",
   "execution_count": 29,
   "id": "fd925676",
   "metadata": {},
   "outputs": [
    {
     "name": "stdout",
     "output_type": "stream",
     "text": [
      "WhatsApp Messenger : 1,000,000,000+\n",
      "imo beta free calls and text : 100,000,000+\n",
      "Android Messages : 100,000,000+\n",
      "Google Duo - High Quality Video Calls : 500,000,000+\n",
      "Messenger – Text and Video Chat for Free : 1,000,000,000+\n",
      "imo free video calls and chat : 500,000,000+\n",
      "Skype - free IM & video calls : 1,000,000,000+\n",
      "Who : 100,000,000+\n",
      "GO SMS Pro - Messenger, Free Themes, Emoji : 100,000,000+\n",
      "LINE: Free Calls & Messages : 500,000,000+\n",
      "Google Chrome: Fast & Secure : 1,000,000,000+\n",
      "Firefox Browser fast & private : 100,000,000+\n",
      "UC Browser - Fast Download Private & Secure : 500,000,000+\n",
      "Gmail : 1,000,000,000+\n",
      "Hangouts : 1,000,000,000+\n",
      "Messenger Lite: Free Calls & Messages : 100,000,000+\n",
      "Kik : 100,000,000+\n",
      "KakaoTalk: Free Calls & Text : 100,000,000+\n",
      "Opera Mini - fast web browser : 100,000,000+\n",
      "Opera Browser: Fast and Secure : 100,000,000+\n",
      "Telegram : 100,000,000+\n",
      "Truecaller: Caller ID, SMS spam blocking & Dialer : 100,000,000+\n",
      "UC Browser Mini -Tiny Fast Private & Secure : 100,000,000+\n",
      "Viber Messenger : 500,000,000+\n",
      "WeChat : 100,000,000+\n",
      "Yahoo Mail – Stay Organized : 100,000,000+\n",
      "BBM - Free Calls & Messages : 100,000,000+\n"
     ]
    }
   ],
   "source": [
    "for app in android_free:\n",
    "    if app[1] == 'COMMUNICATION' and (app[5] == '1,000,000,000+'\n",
    "                                      or app[5] == '500,000,000+'\n",
    "                                      or app[5] =='100,000,000+'):\n",
    "        print(app[0], ':', app[5])"
   ]
  },
  {
   "cell_type": "markdown",
   "id": "eec96503",
   "metadata": {},
   "source": [
    "If we remove all app that above 100,000,000+ installs the average would be reduced roughly ten times."
   ]
  },
  {
   "cell_type": "code",
   "execution_count": 30,
   "id": "f07b8e33",
   "metadata": {},
   "outputs": [
    {
     "name": "stdout",
     "output_type": "stream",
     "text": [
      "3603485.39\n"
     ]
    }
   ],
   "source": [
    "under_100_m = list()\n",
    "\n",
    "for app in android_free:\n",
    "    installs = app[5]\n",
    "    installs = installs.replace(',', '')\n",
    "    installs = installs.replace('+', '')\n",
    "    installs = float(installs)\n",
    "    if app[1] == 'COMMUNICATION' and installs < 100000000:\n",
    "        under_100_m.append(installs)\n",
    "\n",
    "print(round(sum(under_100_m) / len(under_100_m), 2))"
   ]
  },
  {
   "cell_type": "markdown",
   "id": "0c22b8bd",
   "metadata": {},
   "source": [
    "We see the same patter for **Video Players** category with 24,727,872 installs. The market is dominated by apps like **YouTube**, **Google Play Movies & TV** and **MX Player**. The same patter goes for **Social**, **Photography** and **Productivity** apps."
   ]
  },
  {
   "cell_type": "markdown",
   "id": "b83cc6c7",
   "metadata": {},
   "source": [
    "Again, these genres might seem more popular than they really are. These niches seem to be dominated by giants who are hard to compete against."
   ]
  },
  {
   "cell_type": "markdown",
   "id": "1ea638fc",
   "metadata": {},
   "source": [
    "The **Health & Fitness** genre looks fairly popular as well, with an average number of installs of 4,188,822. We should explore this genre more in-depth, since we found that this genre should work well on the **App Store** and our goal is to recommend profile that show potention for being profitable on both **App Store** and **Google Play**."
   ]
  },
  {
   "cell_type": "markdown",
   "id": "94211345",
   "metadata": {},
   "source": [
    "Let's take a look at some of the apps from this genre and their number of installs."
   ]
  },
  {
   "cell_type": "code",
   "execution_count": 31,
   "id": "41736ef6",
   "metadata": {
    "scrolled": false
   },
   "outputs": [
    {
     "name": "stdout",
     "output_type": "stream",
     "text": [
      "Step Counter - Calorie Counter : 500,000+\n",
      "Lose Belly Fat in 30 Days - Flat Stomach : 5,000,000+\n",
      "Pedometer - Step Counter Free & Calorie Burner : 1,000,000+\n",
      "Six Pack in 30 Days - Abs Workout : 10,000,000+\n",
      "Lose Weight in 30 Days : 10,000,000+\n",
      "Pedometer : 10,000,000+\n",
      "LG Health : 10,000,000+\n",
      "Step Counter - Pedometer Free & Calorie Counter : 10,000,000+\n",
      "Pedometer, Step Counter & Weight Loss Tracker App : 10,000,000+\n",
      "Sportractive GPS Running Cycling Distance Tracker : 1,000,000+\n",
      "30 Day Fitness Challenge - Workout at Home : 10,000,000+\n",
      "Home Workout for Men - Bodybuilding : 1,000,000+\n",
      "Fat Burning Workout - Home Weight lose : 100,000+\n",
      "Buttocks and Abdomen : 500,000+\n",
      "Walking for Weight Loss - Walk Tracker : 100,000+\n",
      "Running & Jogging : 500,000+\n",
      "Sleep Sounds : 1,000,000+\n",
      "Fitbit : 10,000,000+\n",
      "Lose Belly Fat-Home Abs Fitness Workout : 50,000+\n",
      "Cycling - Bike Tracker : 500,000+\n",
      "Abs Training-Burn belly fat : 100,000+\n",
      "Calorie Counter - EasyFit free : 1,000,000+\n",
      "Aunjai i lert u : 500,000+\n",
      "Garmin Connect™ : 10,000,000+\n",
      "BetterMe: Weight Loss Workouts : 5,000,000+\n",
      "Bike Computer - GPS Cycling Tracker : 1,000,000+\n",
      "Six Packs for Man–Body Building with No Equipment : 100,000+\n",
      "Running Distance Tracker + : 1,000,000+\n",
      "The TK-App - everything under control : 100,000+\n",
      "Runkeeper - GPS Track Run Walk : 10,000,000+\n",
      "Walking: Pedometer diet : 1,000,000+\n",
      "Recipes for hair and face tried : 500,000+\n",
      "Abs Workout - 30 Days Fitness App for Six Pack Abs : 100,000+\n",
      "8fit Workouts & Meal Planner : 10,000,000+\n",
      "Keep Trainer - Workout Trainer & Fitness Coach : 1,000,000+\n",
      "Couch to 10K Running Trainer : 500,000+\n",
      "PumpUp — Fitness Community : 1,000,000+\n",
      "Home workouts - fat burning, abs, legs, arms,chest : 1,000,000+\n",
      "Running Weight Loss Walking Jogging Hiking FITAPP : 1,000,000+\n",
      "Strava Training: Track Running, Cycling & Swimming : 10,000,000+\n",
      "Workout Trainer: fitness coach : 10,000,000+\n",
      "Fabulous: Motivate Me! Meditate, Relax, Sleep : 5,000,000+\n",
      "StrongLifts 5x5 Workout Gym Log & Personal Trainer : 1,000,000+\n",
      "Run with Map My Run : 5,000,000+\n",
      "7 Minute Workout : 10,000,000+\n",
      "Workout Tracker & Gym Trainer - Fitness Log Book : 500,000+\n",
      "Freeletics: Personal Trainer & Fitness Workouts : 10,000,000+\n",
      "Fitbit Coach : 1,000,000+\n",
      "JEFIT Workout Tracker, Weight Lifting, Gym Log App : 5,000,000+\n",
      "Map My Ride GPS Cycling Riding : 1,000,000+\n",
      "Daily Workouts - Exercise Fitness Routine Trainer : 10,000,000+\n",
      "Google Fit - Fitness Tracking : 10,000,000+\n",
      "Weight Loss Running by Verv : 1,000,000+\n",
      "Sworkit: Workouts & Fitness Plans : 5,000,000+\n",
      "Map My Fitness Workout Trainer : 1,000,000+\n",
      "Sports Tracker Running Cycling : 5,000,000+\n",
      "Seven - 7 Minute Workout Training Challenge : 1,000,000+\n",
      "Daily Yoga - Yoga Fitness Plans : 5,000,000+\n",
      "Relax Meditation: Sleep with Sleep Sounds : 1,000,000+\n",
      "Free Meditation - Take a Break : 100,000+\n",
      "Meditate OM : 1,000,000+\n",
      "Yoga - Track Yoga : 500,000+\n",
      "My Chakra Meditation : 500,000+\n",
      "Relax with Andrew Johnson Lite : 100,000+\n",
      "Meditation Music - Relax, Yoga : 1,000,000+\n",
      "Down Dog: Great Yoga Anywhere : 500,000+\n",
      "21-Day Meditation Experience : 100,000+\n",
      "My Chakra Meditation 2 : 100,000+\n",
      "Simply Yoga - Fitness Trainer for Workouts & Poses : 1,000,000+\n",
      "Relax Melodies: Sleep Sounds : 5,000,000+\n",
      "Simple Habit Meditation : 500,000+\n",
      "Headspace: Meditation & Mindfulness : 10,000,000+\n",
      "Yoga Studio: Mind & Body : 100,000+\n",
      "Pregnancy & Baby Tracker : 1,000,000+\n",
      "My Cycles Period and Ovulation : 1,000,000+\n",
      "I’m Expecting - Pregnancy App : 1,000,000+\n",
      "The Bump Pregnancy Tracker : 1,000,000+\n",
      "My Days - Ovulation Calendar & Period Tracker ™ : 5,000,000+\n",
      "Best Ovulation Tracker Fertility Calendar App Glow : 1,000,000+\n",
      "Eve Period Tracker - Love, Sex & Relationships App : 1,000,000+\n",
      "Fertility Friend Ovulation App : 1,000,000+\n",
      "Pregnancy Tracker : 500,000+\n",
      "Period Tracker : 10,000,000+\n",
      "Spot On Period, Birth Control, & Cycle Tracker : 500,000+\n",
      "OvuView: Ovulation and Fertility : 1,000,000+\n",
      "Period Tracker - Period Calendar Ovulation Tracker : 100,000,000+\n",
      "Period Tracker Clue: Period and Ovulation Tracker : 10,000,000+\n",
      "Calorie Counter - MyFitnessPal : 50,000,000+\n",
      "WomanLog Calendar : 5,000,000+\n",
      "Geocaching® : 5,000,000+\n",
      "Map My Hike GPS Hiking : 500,000+\n",
      "ViewRanger - Hike, Ride or Walk : 1,000,000+\n",
      "Runtastic Mountain Bike GPS Tracker : 1,000,000+\n",
      "AllTrails: Hiking, Running & Mountain Bike Trails : 1,000,000+\n",
      "Water Drink Reminder : 10,000,000+\n",
      "Zombies, Run! 5k Training (Free) : 50,000+\n",
      "Tracks : 50,000+\n",
      "YAZIO Calorie Counter, Nutrition Diary & Diet Plan : 5,000,000+\n",
      "Technutri - calorie counter, diet and carb tracker : 5,000,000+\n",
      "Couch to 5K by RunDouble : 1,000,000+\n",
      "Fooducate Healthy Weight Loss & Calorie Counter : 1,000,000+\n",
      "Weight Watchers Mobile : 5,000,000+\n",
      "Walk with Map My Walk : 5,000,000+\n",
      "My Diet Coach - Weight Loss Motivation & Tracker : 10,000,000+\n",
      "Endomondo - Running & Walking : 10,000,000+\n",
      "Nike+ Run Club : 10,000,000+\n",
      "Lose It! - Calorie Counter : 10,000,000+\n",
      "Runtastic Running App & Mile Tracker : 10,000,000+\n",
      "Calorie Counter - MyNetDiary : 1,000,000+\n",
      "10 Best Foods for You : 500,000+\n",
      "MyPlate Calorie Tracker : 1,000,000+\n",
      "My Diet Diary Calorie Counter : 1,000,000+\n",
      "Calorie Counter - Macros : 100,000+\n",
      "Weight Loss Tracker - RecStyle : 1,000,000+\n",
      "Lark - 24/7 Health Coach : 100,000+\n",
      "MealLogger-Photo Food Journal : 50,000+\n",
      "Health and Nutrition Guide : 500,000+\n",
      "Calorie Counter & Diet Tracker : 1,000,000+\n",
      "Food Calorie Calculator : 100,000+\n",
      "Monitor Your Weight : 5,000,000+\n",
      "Calorie Counter by FatSecret : 10,000,000+\n",
      "Eat Fit - Diet and Health Free : 100,000+\n",
      "Self Healing : 500,000+\n",
      "Happify : 100,000+\n",
      "Binaural Beats Therapy : 1,000,000+\n",
      "Pacifica - Stress & Anxiety : 500,000+\n",
      "Relaxing Sounds : 100,000+\n",
      "White Sound Pro : 500,000+\n",
      "Insight Timer - Free Meditation App : 1,000,000+\n",
      "Self-help Anxiety Management : 500,000+\n",
      "Brain Waves - Binaural Beats : 500,000+\n",
      "Prana Breath: Calm & Meditate : 1,000,000+\n",
      "7 Cups: Anxiety & Stress Chat : 500,000+\n",
      "Calm - Meditate, Sleep, Relax : 5,000,000+\n",
      "White Noise Lite : 1,000,000+\n",
      "Stop, Breathe & Think: Meditation & Mindfulness : 1,000,000+\n",
      "Oral-B App : 1,000,000+\n",
      "f.lux (preview, root-only) : 500,000+\n",
      "HPlus : 100,000+\n",
      "H Band 2.0 : 500,000+\n",
      "H-Connect : 5,000+\n",
      "H Band : 10,000+\n",
      "J - Style Pro : 10,000+\n",
      "K Health : 50,000+\n",
      "Vi Trainer : 5,000+\n",
      "30 Day Ab Challenge : 500,000+\n",
      "Ultimate Ab & Core Workouts : 1,000,000+\n",
      "Abs Workout - Burn Belly Fat with No Equipment : 10,000,000+\n",
      "6 Pack Promise - Ultimate Abs : 1,000,000+\n",
      "Abs, Core & Back Workout Challenge : 100,000+\n",
      "AB Mobile App : 100,000+\n",
      "Daily Ab Workout - Core & Abs Fitness Exercises : 10,000,000+\n",
      "Abs workout 7 minutes : 1,000,000+\n",
      "30 Day Ab Challenge FREE : 1,000,000+\n",
      "ABS Workout - Belly workout, 30 days AB : 100,000+\n",
      "7 minute abs workout - Daily Ab Workout : 100,000+\n",
      "5 Minute Ab Workouts : 50,000+\n",
      "30 Day AB Challenge - Lumowell : 10,000+\n",
      "Ab Workouts : 1,000,000+\n",
      "Ab Workouts - Ab Generator : 1,000+\n",
      "Abs workout - 21 Day Fitness Challenge : 1,000,000+\n",
      "Ladies' Ab Workout FREE : 1,000,000+\n",
      "30-Day Ab Challenge Tracker : 10,000+\n",
      "AF Hydro : 10,000+\n",
      "AF Nutrition - Integratori : 100+\n",
      "AH Connect (Adventist Health) : 1,000+\n",
      "be'ah : 10+\n",
      "We're Working Out - Al Kavadlo : 50,000+\n",
      "AQ Dentals : 10+\n",
      "Sleep as Android Gear Addon : 100,000+\n",
      "Sleep as Android Garmin Addon : 10,000+\n",
      "Samsung Health : 500,000,000+\n",
      "Runtastic Sleep Better: Sleep Cycle & Smart Alarm : 5,000,000+\n",
      "Twilight: Blue light filter : 5,000,000+\n",
      "MediBeat for AW - Android (1) : 500+\n",
      "Q7 SmartWatch : 10,000+\n",
      "AY Oakmont : 10+\n",
      "Cures A-Z : 100,000+\n",
      "BA Accesible : 1,000+\n",
      "Fitness Dance for Zum.ba Workout Exercise : 50,000+\n",
      "BD Provider App : 5,000+\n",
      "BF Scale Health Fitness Tool : 1,000+\n",
      "Women\"s Health Tips(Breast,Face,Body,weight lose) : 1,000,000+\n",
      "Revita.bg : 10+\n",
      "Blood Glucose Tracker : 100,000+\n",
      "BH by Kinomap : 10,000+\n",
      "BH - Fitness & Nutrition : 1+\n",
      "FitConsole : 50,000+\n",
      "Run on Earth : 50,000+\n",
      "Treadmill Workouts Free (P) : 1,000+\n",
      "The Daily BJ : 500+\n",
      "Hungry Girl Diet Bk. Companion : 1,000+\n",
      "BL ONLINE PERSONAL TRAINING : 5+\n",
      "Poop Tracker - Toilet Log : 10,000+\n",
      "BM Pharmacy : 1,000+\n",
      "BM Physiotherapy Clinic : 100+\n",
      "My BP Lab : 10,000+\n",
      "BP Tracker : 1,000+\n",
      "MI-BP : 50+\n",
      "Deep Breathe BP : 1,000+\n",
      "BP Toolbox : 1,000+\n",
      "Blood pressure : 500,000+\n",
      "Bacterial Vaginosis : 100+\n",
      "Bacterial Vaginosis 🇺🇸 : 500+\n",
      "Bacteria Vaginosis : 1,000,000+\n",
      "Bacterial vaginosis Treatment - Sexual disease : 500+\n",
      "Home Remedies for Bacterial Infections : 50+\n",
      "Benefit Extras Mobile App : 1,000+\n",
      "Kick Axe Bx : 1+\n",
      "CB Martial Arts : 10+\n",
      "CB NFC Pendant : 50+\n",
      "CB Fit : 10+\n",
      "C B Patel Health Club : 100+\n",
      "CF SPOT : 100+\n",
      "CF Talenti : 100+\n",
      "Thrive CF : 100+\n",
      "CF Townsville : 100+\n",
      "CF Etowah : 100+\n",
      "Cystic Fibrosis Symptoms, Doctors & Treatments : 100+\n",
      "CF Themis : 100+\n",
      "CF Riga : 100+\n",
      "Casa CF : 500+\n",
      "CampGladiator : 50,000+\n",
      "CG Fit Scale : 1,000+\n",
      "Pharmacy CI - Pharmacies de garde Côte d'Ivoire : 100,000+\n",
      "Pharmacie de Garde CI et Prix : 100,000+\n",
      "CJ Fitness : 10,000+\n",
      "The CJ Rubric : 100+\n",
      "CK SKILLZ : 50+\n",
      "CK Life : 100+\n",
      "CK Pharmacies : 100+\n",
      "CK Active : 10+\n",
      "CL-Customer Care : 5+\n",
      "CL Strength : 50+\n",
      "The ClubHouse CR : 100+\n",
      "Evolution Marketing CR : 1,000+\n",
      "I AM C.T. : 1,000+\n",
      "Cy's Elma Pharmacy : 10+\n",
      "DG Fitness : 100+\n",
      "DG Xplained : 100+\n",
      "Stop Smoking - EasyQuit free : 500,000+\n",
      "Dr. Muscle : 10,000+\n",
      "DS Companion : 50+\n",
      "Eat Right Diet (by Dt Shreya's Family Diet Clinic) : 10+\n",
      "Dt. Jyothi Srinivas : 100+\n",
      "DT NO.I : 1,000+\n",
      "Bodyworks DW : 10+\n",
      "D.W Bien Être : 10+\n",
      "Cloud DX Connected Health : 100+\n",
      "DY Fitness : 10+\n",
      "PHARMAGUIDE (DZ) : 5,000+\n",
      "DEM DZ : 100+\n",
      "Eb & flow Yoga Studio : 10+\n",
      "EF Coach : 500+\n",
      "EF Academy : 50+\n",
      "Period Tracker, Pregnancy Calculator & Calendar 🌸 : 10,000+\n",
      "EO App. SelfCompassion to you : 100+\n",
      "Nike Training Club - Workouts & Fitness Plans : 10,000,000+\n",
      "Ideal Weight, BMI Calculator : 5,000,000+\n",
      "Fitness & Bodybuilding : 5,000,000+\n",
      "CALIOPE EU: Air Quality : 1,000+\n",
      "Home Workout - No Equipment : 10,000,000+\n",
      "EW MOTION THERAPY : 10+\n",
      "SCI-Ex : 1,000+\n",
      "X your Ex - Break Up Treatment : 5,000+\n",
      "Dream EZ : 10,000+\n",
      "FD Fitness : 50+\n",
      "L!FE Premium Training : 100+\n",
      "Santa Fe Thrive : 50+\n",
      "Burn Your Fat With Me! FG : 1,000,000+\n",
      "FH Calculator : 500+\n",
      "Restaurant Inspections - FL : 10,000+\n",
      "Florida Blue : 100,000+\n"
     ]
    }
   ],
   "source": [
    "for app in android_free:\n",
    "    if app[1] == 'HEALTH_AND_FITNESS':\n",
    "        print(app[0], ':', app[5])"
   ]
  },
  {
   "cell_type": "markdown",
   "id": "cf60aefa",
   "metadata": {},
   "source": [
    "The **Health & Fitness** genre includes a variety of apps from calorie counters to meditation apps. "
   ]
  },
  {
   "cell_type": "code",
   "execution_count": 32,
   "id": "4e3ddfc0",
   "metadata": {},
   "outputs": [
    {
     "name": "stdout",
     "output_type": "stream",
     "text": [
      "Period Tracker - Period Calendar Ovulation Tracker : 100,000,000+\n",
      "Samsung Health : 500,000,000+\n"
     ]
    }
   ],
   "source": [
    "for app in android_free:\n",
    "    if app[1] == 'HEALTH_AND_FITNESS' and (app[5] == '1,000,000,000+'\n",
    "                                      or app[5] == '500,000,000+'\n",
    "                                      or app[5] =='100,000,000+'):\n",
    "        print(app[0], ':', app[5])"
   ]
  },
  {
   "cell_type": "markdown",
   "id": "125ce7c4",
   "metadata": {},
   "source": [
    "There's only 2 really popular apps, so this market shows really huge potential to us. Let's have some app ideas based on the apps that are somewhere in the middle in terms of popularity."
   ]
  },
  {
   "cell_type": "code",
   "execution_count": 33,
   "id": "d9bd47e5",
   "metadata": {},
   "outputs": [
    {
     "name": "stdout",
     "output_type": "stream",
     "text": [
      "Lose Belly Fat in 30 Days - Flat Stomach : 5,000,000+\n",
      "Pedometer - Step Counter Free & Calorie Burner : 1,000,000+\n",
      "Six Pack in 30 Days - Abs Workout : 10,000,000+\n",
      "Lose Weight in 30 Days : 10,000,000+\n",
      "Pedometer : 10,000,000+\n",
      "LG Health : 10,000,000+\n",
      "Step Counter - Pedometer Free & Calorie Counter : 10,000,000+\n",
      "Pedometer, Step Counter & Weight Loss Tracker App : 10,000,000+\n",
      "Sportractive GPS Running Cycling Distance Tracker : 1,000,000+\n",
      "30 Day Fitness Challenge - Workout at Home : 10,000,000+\n",
      "Home Workout for Men - Bodybuilding : 1,000,000+\n",
      "Sleep Sounds : 1,000,000+\n",
      "Fitbit : 10,000,000+\n",
      "Calorie Counter - EasyFit free : 1,000,000+\n",
      "Garmin Connect™ : 10,000,000+\n",
      "BetterMe: Weight Loss Workouts : 5,000,000+\n",
      "Bike Computer - GPS Cycling Tracker : 1,000,000+\n",
      "Running Distance Tracker + : 1,000,000+\n",
      "Runkeeper - GPS Track Run Walk : 10,000,000+\n",
      "Walking: Pedometer diet : 1,000,000+\n",
      "8fit Workouts & Meal Planner : 10,000,000+\n",
      "Keep Trainer - Workout Trainer & Fitness Coach : 1,000,000+\n",
      "PumpUp — Fitness Community : 1,000,000+\n",
      "Home workouts - fat burning, abs, legs, arms,chest : 1,000,000+\n",
      "Running Weight Loss Walking Jogging Hiking FITAPP : 1,000,000+\n",
      "Strava Training: Track Running, Cycling & Swimming : 10,000,000+\n",
      "Workout Trainer: fitness coach : 10,000,000+\n",
      "Fabulous: Motivate Me! Meditate, Relax, Sleep : 5,000,000+\n",
      "StrongLifts 5x5 Workout Gym Log & Personal Trainer : 1,000,000+\n",
      "Run with Map My Run : 5,000,000+\n",
      "7 Minute Workout : 10,000,000+\n",
      "Freeletics: Personal Trainer & Fitness Workouts : 10,000,000+\n",
      "Fitbit Coach : 1,000,000+\n",
      "JEFIT Workout Tracker, Weight Lifting, Gym Log App : 5,000,000+\n",
      "Map My Ride GPS Cycling Riding : 1,000,000+\n",
      "Daily Workouts - Exercise Fitness Routine Trainer : 10,000,000+\n",
      "Google Fit - Fitness Tracking : 10,000,000+\n",
      "Weight Loss Running by Verv : 1,000,000+\n",
      "Sworkit: Workouts & Fitness Plans : 5,000,000+\n",
      "Map My Fitness Workout Trainer : 1,000,000+\n",
      "Sports Tracker Running Cycling : 5,000,000+\n",
      "Seven - 7 Minute Workout Training Challenge : 1,000,000+\n",
      "Daily Yoga - Yoga Fitness Plans : 5,000,000+\n",
      "Relax Meditation: Sleep with Sleep Sounds : 1,000,000+\n",
      "Meditate OM : 1,000,000+\n",
      "Meditation Music - Relax, Yoga : 1,000,000+\n",
      "Simply Yoga - Fitness Trainer for Workouts & Poses : 1,000,000+\n",
      "Relax Melodies: Sleep Sounds : 5,000,000+\n",
      "Headspace: Meditation & Mindfulness : 10,000,000+\n",
      "Pregnancy & Baby Tracker : 1,000,000+\n",
      "My Cycles Period and Ovulation : 1,000,000+\n",
      "I’m Expecting - Pregnancy App : 1,000,000+\n",
      "The Bump Pregnancy Tracker : 1,000,000+\n",
      "My Days - Ovulation Calendar & Period Tracker ™ : 5,000,000+\n",
      "Best Ovulation Tracker Fertility Calendar App Glow : 1,000,000+\n",
      "Eve Period Tracker - Love, Sex & Relationships App : 1,000,000+\n",
      "Fertility Friend Ovulation App : 1,000,000+\n",
      "Period Tracker : 10,000,000+\n",
      "OvuView: Ovulation and Fertility : 1,000,000+\n",
      "Period Tracker Clue: Period and Ovulation Tracker : 10,000,000+\n",
      "Calorie Counter - MyFitnessPal : 50,000,000+\n",
      "WomanLog Calendar : 5,000,000+\n",
      "Geocaching® : 5,000,000+\n",
      "ViewRanger - Hike, Ride or Walk : 1,000,000+\n",
      "Runtastic Mountain Bike GPS Tracker : 1,000,000+\n",
      "AllTrails: Hiking, Running & Mountain Bike Trails : 1,000,000+\n",
      "Water Drink Reminder : 10,000,000+\n",
      "YAZIO Calorie Counter, Nutrition Diary & Diet Plan : 5,000,000+\n",
      "Technutri - calorie counter, diet and carb tracker : 5,000,000+\n",
      "Couch to 5K by RunDouble : 1,000,000+\n",
      "Fooducate Healthy Weight Loss & Calorie Counter : 1,000,000+\n",
      "Weight Watchers Mobile : 5,000,000+\n",
      "Walk with Map My Walk : 5,000,000+\n",
      "My Diet Coach - Weight Loss Motivation & Tracker : 10,000,000+\n",
      "Endomondo - Running & Walking : 10,000,000+\n",
      "Nike+ Run Club : 10,000,000+\n",
      "Lose It! - Calorie Counter : 10,000,000+\n",
      "Runtastic Running App & Mile Tracker : 10,000,000+\n",
      "Calorie Counter - MyNetDiary : 1,000,000+\n",
      "MyPlate Calorie Tracker : 1,000,000+\n",
      "My Diet Diary Calorie Counter : 1,000,000+\n",
      "Weight Loss Tracker - RecStyle : 1,000,000+\n",
      "Calorie Counter & Diet Tracker : 1,000,000+\n",
      "Monitor Your Weight : 5,000,000+\n",
      "Calorie Counter by FatSecret : 10,000,000+\n",
      "Binaural Beats Therapy : 1,000,000+\n",
      "Insight Timer - Free Meditation App : 1,000,000+\n",
      "Prana Breath: Calm & Meditate : 1,000,000+\n",
      "Calm - Meditate, Sleep, Relax : 5,000,000+\n",
      "White Noise Lite : 1,000,000+\n",
      "Stop, Breathe & Think: Meditation & Mindfulness : 1,000,000+\n",
      "Oral-B App : 1,000,000+\n",
      "Ultimate Ab & Core Workouts : 1,000,000+\n",
      "Abs Workout - Burn Belly Fat with No Equipment : 10,000,000+\n",
      "6 Pack Promise - Ultimate Abs : 1,000,000+\n",
      "Daily Ab Workout - Core & Abs Fitness Exercises : 10,000,000+\n",
      "Abs workout 7 minutes : 1,000,000+\n",
      "30 Day Ab Challenge FREE : 1,000,000+\n",
      "Ab Workouts : 1,000,000+\n",
      "Abs workout - 21 Day Fitness Challenge : 1,000,000+\n",
      "Ladies' Ab Workout FREE : 1,000,000+\n",
      "Runtastic Sleep Better: Sleep Cycle & Smart Alarm : 5,000,000+\n",
      "Twilight: Blue light filter : 5,000,000+\n",
      "Women\"s Health Tips(Breast,Face,Body,weight lose) : 1,000,000+\n",
      "Bacteria Vaginosis : 1,000,000+\n",
      "Nike Training Club - Workouts & Fitness Plans : 10,000,000+\n",
      "Ideal Weight, BMI Calculator : 5,000,000+\n",
      "Fitness & Bodybuilding : 5,000,000+\n",
      "Home Workout - No Equipment : 10,000,000+\n",
      "Burn Your Fat With Me! FG : 1,000,000+\n"
     ]
    }
   ],
   "source": [
    "for app in android_free:\n",
    "    if app[1] == 'HEALTH_AND_FITNESS' and (app[5] == '1,000,000+'\n",
    "                                      or app[5] == '5,000,000+'\n",
    "                                      or app[5] =='10,000,000+'\n",
    "                                      or app[5] =='50,000,000+'):\n",
    "        print(app[0], ':', app[5])"
   ]
  },
  {
   "cell_type": "markdown",
   "id": "380c672b",
   "metadata": {},
   "source": [
    "Look's like this niche is dominated by **Calorie Counters**, **Home Workout** apps as well as apps for **Weight Loss**, so it's probably not a good idea to build a simmilar apps since there'll be some strong competition."
   ]
  },
  {
   "cell_type": "markdown",
   "id": "172faec2",
   "metadata": {},
   "source": [
    "We are notice there a few apps build around **Abs Workout**, which suggests that building an app around one popular kind of excercises can be profitable. It seems like building an app around one theme, in our case **Abs training**, with new and intresting features could be profitable for both **App Store** and **Google Play** markets."
   ]
  },
  {
   "cell_type": "markdown",
   "id": "ed38e647",
   "metadata": {},
   "source": [
    "## Conclusion"
   ]
  },
  {
   "cell_type": "markdown",
   "id": "2afd7ee8",
   "metadata": {},
   "source": [
    "In this project we analyzed data about the **App Store** and **Google Play** mobile apps with the goal of recommending an app profile that can be profitable for both markets."
   ]
  },
  {
   "cell_type": "markdown",
   "id": "4fdf1c35",
   "metadata": {},
   "source": [
    "We came to the conclusion that creating a fitness app using the idea of gamification can be profitable for both **App Store** and **Google Play**. The market is already full of ordinary fitness apps, so we think that **Abs Workout** app with adding features like character development, achievements, online community etc. could be popular and profitable."
   ]
  }
 ],
 "metadata": {
  "kernelspec": {
   "display_name": "Python 3 (ipykernel)",
   "language": "python",
   "name": "python3"
  },
  "language_info": {
   "codemirror_mode": {
    "name": "ipython",
    "version": 3
   },
   "file_extension": ".py",
   "mimetype": "text/x-python",
   "name": "python",
   "nbconvert_exporter": "python",
   "pygments_lexer": "ipython3",
   "version": "3.9.13"
  }
 },
 "nbformat": 4,
 "nbformat_minor": 5
}
